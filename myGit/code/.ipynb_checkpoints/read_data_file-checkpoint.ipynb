{
 "cells": [
  {
   "cell_type": "code",
   "execution_count": 4,
   "metadata": {},
   "outputs": [
    {
     "name": "stdout",
     "output_type": "stream",
     "text": [
      "hello world000\n"
     ]
    }
   ],
   "source": [
    "print('hello world000')"
   ]
  },
  {
   "cell_type": "code",
   "execution_count": 3,
   "metadata": {},
   "outputs": [
    {
     "name": "stdout",
     "output_type": "stream",
     "text": [
      "3.1415926535\n",
      "  8979323846\n",
      "  2643383279\n",
      "\n"
     ]
    }
   ],
   "source": [
    "with open('D:\\python_workspace\\《Python编程》源代码文件-更新\\《Python编程》源代码文件\\chapter_10\\pi_digits.txt') as file_object:\n",
    "    contents = file_object.read()\n",
    "    print(contents)"
   ]
  },
  {
   "cell_type": "code",
   "execution_count": 7,
   "metadata": {},
   "outputs": [
    {
     "name": "stdout",
     "output_type": "stream",
     "text": [
      "3.1415926535\n",
      "  8979323846\n",
      "  2643383279\n"
     ]
    }
   ],
   "source": [
    "with open('《Python编程》源代码文件-更新\\《Python编程》源代码文件\\chapter_10\\pi_digits.txt') as file_object:\n",
    "    contents = file_object.read()\n",
    "    print(contents.rstrip())"
   ]
  },
  {
   "cell_type": "code",
   "execution_count": 11,
   "metadata": {},
   "outputs": [
    {
     "name": "stdout",
     "output_type": "stream",
     "text": [
      "3.1415926535\n",
      "\n",
      "  8979323846\n",
      "\n",
      "  2643383279\n",
      "\n"
     ]
    }
   ],
   "source": [
    "with open('《Python编程》源代码文件-更新\\《Python编程》源代码文件\\chapter_10\\pi_digits.txt') as file_object:\n",
    "    for line in file_object:\n",
    "        print(line)"
   ]
  },
  {
   "cell_type": "code",
   "execution_count": 13,
   "metadata": {},
   "outputs": [
    {
     "name": "stdout",
     "output_type": "stream",
     "text": [
      "3.1415926535\n",
      "  8979323846\n",
      "  2643383279\n"
     ]
    }
   ],
   "source": [
    "with open('《Python编程》源代码文件-更新\\《Python编程》源代码文件\\chapter_10\\pi_digits.txt') as file_object:\n",
    "    lines = file_object.readlines()\n",
    "for line in lines:\n",
    "    print(line.rstrip())"
   ]
  },
  {
   "cell_type": "code",
   "execution_count": 15,
   "metadata": {},
   "outputs": [
    {
     "name": "stdout",
     "output_type": "stream",
     "text": [
      "3.1415926535  8979323846  2643383279\n",
      "36\n"
     ]
    }
   ],
   "source": [
    "with open('《Python编程》源代码文件-更新\\《Python编程》源代码文件\\chapter_10\\pi_digits.txt') as file_object:\n",
    "    lines = file_object.readlines()\n",
    "pi_string = ''\n",
    "for line in lines:\n",
    "    pi_string += line.rstrip()\n",
    "print(pi_string)\n",
    "print(len(pi_string))"
   ]
  },
  {
   "cell_type": "code",
   "execution_count": 21,
   "metadata": {},
   "outputs": [
    {
     "name": "stdout",
     "output_type": "stream",
     "text": [
      "6.283185307179586\n",
      "32\n"
     ]
    }
   ],
   "source": [
    "with open('《Python编程》源代码文件-更新\\《Python编程》源代码文件\\chapter_10\\pi_digits.txt') as file_object:\n",
    "    lines = file_object.readlines()\n",
    "pi_string = ''\n",
    "for line in lines:\n",
    "    pi_string += line.strip()\n",
    "print(float(pi_string)*2)\n",
    "print(len(pi_string))"
   ]
  },
  {
   "cell_type": "code",
   "execution_count": 27,
   "metadata": {},
   "outputs": [
    {
     "name": "stdout",
     "output_type": "stream",
     "text": [
      "6.283185307179586\n",
      "3.14159265358979323846264338327950288419716939937510......\n",
      "1000002\n"
     ]
    }
   ],
   "source": [
    "with open('《Python编程》源代码文件-更新\\《Python编程》源代码文件\\chapter_10\\pi_million_digits.txt') as file_object:\n",
    "    lines = file_object.readlines()\n",
    "pi_string = ''\n",
    "for line in lines:\n",
    "    pi_string += line.strip()\n",
    "print(float(pi_string)*2)\n",
    "print(pi_string[:52] + '......')\n",
    "print(len(pi_string))"
   ]
  },
  {
   "cell_type": "code",
   "execution_count": 30,
   "metadata": {},
   "outputs": [
    {
     "name": "stdout",
     "output_type": "stream",
     "text": [
      "T\n"
     ]
    }
   ],
   "source": [
    "if '141592' in pi_string:\n",
    "    print('T')\n",
    "else:\n",
    "    print('F')"
   ]
  },
  {
   "cell_type": "code",
   "execution_count": 38,
   "metadata": {},
   "outputs": [],
   "source": [
    "filename = 'programming.txt'\n",
    "with open(filename,'w') as file_object:\n",
    "    file_object.write(\"如果你要写入的文件不存在，函数open()将自动创建它。然而，以写入（'w'）模式打开文,件时千万要小心\\n，因为如果指定的文件已经存在，Python将在返回文件对象前清空该文件。\")\n"
   ]
  },
  {
   "cell_type": "code",
   "execution_count": 40,
   "metadata": {},
   "outputs": [],
   "source": [
    "filename = 'programming.txt'\n",
    "with open(filename,'a') as file_object:\n",
    "    file_object.write(\"如果你要写入的文件不存在，函数open()将自动创建它。然而，以写入（'w'）模式打开文,件时千万要小心\\n，因为如果指定的文件已经存在，Python将在返回文件对象前清空该文件。\\n我们打开文件时指定了实参'a'，以便将内容附加到文件末尾，而不是覆盖文件原来的内容。\")"
   ]
  },
  {
   "cell_type": "code",
   "execution_count": 42,
   "metadata": {},
   "outputs": [
    {
     "name": "stdout",
     "output_type": "stream",
     "text": [
      "You can't divide by zero!\n"
     ]
    }
   ],
   "source": [
    "# 异常处理\n",
    "try:\n",
    "    print(5/0)\n",
    "except ZeroDivisionError:\n",
    "    print(\"You can't divide by zero!\")"
   ]
  },
  {
   "cell_type": "code",
   "execution_count": 43,
   "metadata": {},
   "outputs": [
    {
     "name": "stdout",
     "output_type": "stream",
     "text": [
      "Give me two numbers, and I'll divide them.\n",
      "Enter 'q' to quit.\n"
     ]
    },
    {
     "ename": "StdinNotImplementedError",
     "evalue": "raw_input was called, but this frontend does not support input requests.",
     "output_type": "error",
     "traceback": [
      "\u001b[1;31m---------------------------------------------------------------------------\u001b[0m",
      "\u001b[1;31mStdinNotImplementedError\u001b[0m                  Traceback (most recent call last)",
      "\u001b[1;32m<ipython-input-43-5a29e222f8f1>\u001b[0m in \u001b[0;36m<module>\u001b[1;34m\u001b[0m\n\u001b[0;32m      3\u001b[0m \u001b[1;33m\u001b[0m\u001b[0m\n\u001b[0;32m      4\u001b[0m \u001b[1;32mwhile\u001b[0m \u001b[1;32mTrue\u001b[0m\u001b[1;33m:\u001b[0m\u001b[1;33m\u001b[0m\u001b[1;33m\u001b[0m\u001b[0m\n\u001b[1;32m----> 5\u001b[1;33m     \u001b[0mfirst_number\u001b[0m \u001b[1;33m=\u001b[0m \u001b[0minput\u001b[0m\u001b[1;33m(\u001b[0m\u001b[1;34m\"\\nFirst number: \"\u001b[0m\u001b[1;33m)\u001b[0m\u001b[1;33m\u001b[0m\u001b[1;33m\u001b[0m\u001b[0m\n\u001b[0m\u001b[0;32m      6\u001b[0m     \u001b[1;32mif\u001b[0m \u001b[0mfirst_number\u001b[0m \u001b[1;33m==\u001b[0m \u001b[1;34m'q'\u001b[0m\u001b[1;33m:\u001b[0m\u001b[1;33m\u001b[0m\u001b[1;33m\u001b[0m\u001b[0m\n\u001b[0;32m      7\u001b[0m         \u001b[1;32mbreak\u001b[0m\u001b[1;33m\u001b[0m\u001b[1;33m\u001b[0m\u001b[0m\n",
      "\u001b[1;32mD:\\Anaconda3\\lib\\site-packages\\ipykernel\\kernelbase.py\u001b[0m in \u001b[0;36mraw_input\u001b[1;34m(self, prompt)\u001b[0m\n\u001b[0;32m    852\u001b[0m         \u001b[1;32mif\u001b[0m \u001b[1;32mnot\u001b[0m \u001b[0mself\u001b[0m\u001b[1;33m.\u001b[0m\u001b[0m_allow_stdin\u001b[0m\u001b[1;33m:\u001b[0m\u001b[1;33m\u001b[0m\u001b[1;33m\u001b[0m\u001b[0m\n\u001b[0;32m    853\u001b[0m             raise StdinNotImplementedError(\n\u001b[1;32m--> 854\u001b[1;33m                 \u001b[1;34m\"raw_input was called, but this frontend does not support input requests.\"\u001b[0m\u001b[1;33m\u001b[0m\u001b[1;33m\u001b[0m\u001b[0m\n\u001b[0m\u001b[0;32m    855\u001b[0m             )\n\u001b[0;32m    856\u001b[0m         return self._input_request(str(prompt),\n",
      "\u001b[1;31mStdinNotImplementedError\u001b[0m: raw_input was called, but this frontend does not support input requests."
     ]
    }
   ],
   "source": [
    "print(\"Give me two numbers, and I'll divide them.\") \n",
    "print(\"Enter 'q' to quit.\") \n",
    " \n",
    "while True:\n",
    "    first_number = input(\"\\nFirst number: \")\n",
    "    if first_number == 'q':\n",
    "        break\n",
    "    second_number = input(\"Second number: \")\n",
    "    if second_number == 'q':\n",
    "        break\n",
    "    answer = int(first_number) / int(second_number)\n",
    "    print(answer) "
   ]
  },
  {
   "cell_type": "code",
   "execution_count": 1,
   "metadata": {},
   "outputs": [],
   "source": [
    "import pygal"
   ]
  },
  {
   "cell_type": "code",
   "execution_count": 5,
   "metadata": {},
   "outputs": [
    {
     "data": {
      "text/plain": [
       "b'<?xml version=\\'1.0\\' encoding=\\'utf-8\\'?>\\n<svg xmlns=\"http://www.w3.org/2000/svg\" xmlns:xlink=\"http://www.w3.org/1999/xlink\" id=\"chart-08e2f6dc-5f7f-41ed-9ca3-7bfd72d6a409\" class=\"pygal-chart\" viewBox=\"0 0 800 600\"><!--Generated with pygal 2.4.0 (lxml) \\xc2\\xa9Kozea 2012-2016 on 2020-01-27--><!--http://pygal.org--><!--http://github.com/Kozea/pygal--><defs><style type=\"text/css\">#chart-08e2f6dc-5f7f-41ed-9ca3-7bfd72d6a409{-webkit-user-select:none;-webkit-font-smoothing:antialiased;font-family:Consolas,\"Liberation Mono\",Menlo,Courier,monospace}#chart-08e2f6dc-5f7f-41ed-9ca3-7bfd72d6a409 .title{font-family:Consolas,\"Liberation Mono\",Menlo,Courier,monospace;font-size:16px}#chart-08e2f6dc-5f7f-41ed-9ca3-7bfd72d6a409 .legends .legend text{font-family:Consolas,\"Liberation Mono\",Menlo,Courier,monospace;font-size:14px}#chart-08e2f6dc-5f7f-41ed-9ca3-7bfd72d6a409 .axis text{font-family:Consolas,\"Liberation Mono\",Menlo,Courier,monospace;font-size:10px}#chart-08e2f6dc-5f7f-41ed-9ca3-7bfd72d6a409 .axis text.major{font-family:Consolas,\"Liberation Mono\",Menlo,Courier,monospace;font-size:10px}#chart-08e2f6dc-5f7f-41ed-9ca3-7bfd72d6a409 .text-overlay text.value{font-family:Consolas,\"Liberation Mono\",Menlo,Courier,monospace;font-size:16px}#chart-08e2f6dc-5f7f-41ed-9ca3-7bfd72d6a409 .text-overlay text.label{font-family:Consolas,\"Liberation Mono\",Menlo,Courier,monospace;font-size:10px}#chart-08e2f6dc-5f7f-41ed-9ca3-7bfd72d6a409 .tooltip{font-family:Consolas,\"Liberation Mono\",Menlo,Courier,monospace;font-size:14px}#chart-08e2f6dc-5f7f-41ed-9ca3-7bfd72d6a409 text.no_data{font-family:Consolas,\"Liberation Mono\",Menlo,Courier,monospace;font-size:64px}\\n#chart-08e2f6dc-5f7f-41ed-9ca3-7bfd72d6a409{background-color:rgba(249,249,249,1)}#chart-08e2f6dc-5f7f-41ed-9ca3-7bfd72d6a409 path,#chart-08e2f6dc-5f7f-41ed-9ca3-7bfd72d6a409 line,#chart-08e2f6dc-5f7f-41ed-9ca3-7bfd72d6a409 rect,#chart-08e2f6dc-5f7f-41ed-9ca3-7bfd72d6a409 circle{-webkit-transition:150ms;-moz-transition:150ms;transition:150ms}#chart-08e2f6dc-5f7f-41ed-9ca3-7bfd72d6a409 .graph &gt; .background{fill:rgba(249,249,249,1)}#chart-08e2f6dc-5f7f-41ed-9ca3-7bfd72d6a409 .plot &gt; .background{fill:rgba(255,255,255,1)}#chart-08e2f6dc-5f7f-41ed-9ca3-7bfd72d6a409 .graph{fill:rgba(0,0,0,.87)}#chart-08e2f6dc-5f7f-41ed-9ca3-7bfd72d6a409 text.no_data{fill:rgba(0,0,0,1)}#chart-08e2f6dc-5f7f-41ed-9ca3-7bfd72d6a409 .title{fill:rgba(0,0,0,1)}#chart-08e2f6dc-5f7f-41ed-9ca3-7bfd72d6a409 .legends .legend text{fill:rgba(0,0,0,.87)}#chart-08e2f6dc-5f7f-41ed-9ca3-7bfd72d6a409 .legends .legend:hover text{fill:rgba(0,0,0,1)}#chart-08e2f6dc-5f7f-41ed-9ca3-7bfd72d6a409 .axis .line{stroke:rgba(0,0,0,1)}#chart-08e2f6dc-5f7f-41ed-9ca3-7bfd72d6a409 .axis .guide.line{stroke:rgba(0,0,0,.54)}#chart-08e2f6dc-5f7f-41ed-9ca3-7bfd72d6a409 .axis .major.line{stroke:rgba(0,0,0,.87)}#chart-08e2f6dc-5f7f-41ed-9ca3-7bfd72d6a409 .axis text.major{fill:rgba(0,0,0,1)}#chart-08e2f6dc-5f7f-41ed-9ca3-7bfd72d6a409 .axis.y .guides:hover .guide.line,#chart-08e2f6dc-5f7f-41ed-9ca3-7bfd72d6a409 .line-graph .axis.x .guides:hover .guide.line,#chart-08e2f6dc-5f7f-41ed-9ca3-7bfd72d6a409 .stackedline-graph .axis.x .guides:hover .guide.line,#chart-08e2f6dc-5f7f-41ed-9ca3-7bfd72d6a409 .xy-graph .axis.x .guides:hover .guide.line{stroke:rgba(0,0,0,1)}#chart-08e2f6dc-5f7f-41ed-9ca3-7bfd72d6a409 .axis .guides:hover text{fill:rgba(0,0,0,1)}#chart-08e2f6dc-5f7f-41ed-9ca3-7bfd72d6a409 .reactive{fill-opacity:.7;stroke-opacity:.8}#chart-08e2f6dc-5f7f-41ed-9ca3-7bfd72d6a409 .ci{stroke:rgba(0,0,0,.87)}#chart-08e2f6dc-5f7f-41ed-9ca3-7bfd72d6a409 .reactive.active,#chart-08e2f6dc-5f7f-41ed-9ca3-7bfd72d6a409 .active .reactive{fill-opacity:.8;stroke-opacity:.9;stroke-width:4}#chart-08e2f6dc-5f7f-41ed-9ca3-7bfd72d6a409 .ci .reactive.active{stroke-width:1.5}#chart-08e2f6dc-5f7f-41ed-9ca3-7bfd72d6a409 .series text{fill:rgba(0,0,0,1)}#chart-08e2f6dc-5f7f-41ed-9ca3-7bfd72d6a409 .tooltip rect{fill:rgba(255,255,255,1);stroke:rgba(0,0,0,1);-webkit-transition:opacity 150ms;-moz-transition:opacity 150ms;transition:opacity 150ms}#chart-08e2f6dc-5f7f-41ed-9ca3-7bfd72d6a409 .tooltip .label{fill:rgba(0,0,0,.87)}#chart-08e2f6dc-5f7f-41ed-9ca3-7bfd72d6a409 .tooltip .label{fill:rgba(0,0,0,.87)}#chart-08e2f6dc-5f7f-41ed-9ca3-7bfd72d6a409 .tooltip .legend{font-size:.8em;fill:rgba(0,0,0,.54)}#chart-08e2f6dc-5f7f-41ed-9ca3-7bfd72d6a409 .tooltip .x_label{font-size:.6em;fill:rgba(0,0,0,1)}#chart-08e2f6dc-5f7f-41ed-9ca3-7bfd72d6a409 .tooltip .xlink{font-size:.5em;text-decoration:underline}#chart-08e2f6dc-5f7f-41ed-9ca3-7bfd72d6a409 .tooltip .value{font-size:1.5em}#chart-08e2f6dc-5f7f-41ed-9ca3-7bfd72d6a409 .bound{font-size:.5em}#chart-08e2f6dc-5f7f-41ed-9ca3-7bfd72d6a409 .max-value{font-size:.75em;fill:rgba(0,0,0,.54)}#chart-08e2f6dc-5f7f-41ed-9ca3-7bfd72d6a409 .map-element{fill:rgba(255,255,255,1);stroke:rgba(0,0,0,.54) !important}#chart-08e2f6dc-5f7f-41ed-9ca3-7bfd72d6a409 .map-element .reactive{fill-opacity:inherit;stroke-opacity:inherit}#chart-08e2f6dc-5f7f-41ed-9ca3-7bfd72d6a409 .color-0,#chart-08e2f6dc-5f7f-41ed-9ca3-7bfd72d6a409 .color-0 a:visited{stroke:#F44336;fill:#F44336}#chart-08e2f6dc-5f7f-41ed-9ca3-7bfd72d6a409 .color-1,#chart-08e2f6dc-5f7f-41ed-9ca3-7bfd72d6a409 .color-1 a:visited{stroke:#3F51B5;fill:#3F51B5}#chart-08e2f6dc-5f7f-41ed-9ca3-7bfd72d6a409 .text-overlay .color-0 text{fill:black}#chart-08e2f6dc-5f7f-41ed-9ca3-7bfd72d6a409 .text-overlay .color-1 text{fill:black}\\n#chart-08e2f6dc-5f7f-41ed-9ca3-7bfd72d6a409 text.no_data{text-anchor:middle}#chart-08e2f6dc-5f7f-41ed-9ca3-7bfd72d6a409 .guide.line{fill:none}#chart-08e2f6dc-5f7f-41ed-9ca3-7bfd72d6a409 .centered{text-anchor:middle}#chart-08e2f6dc-5f7f-41ed-9ca3-7bfd72d6a409 .title{text-anchor:middle}#chart-08e2f6dc-5f7f-41ed-9ca3-7bfd72d6a409 .legends .legend text{fill-opacity:1}#chart-08e2f6dc-5f7f-41ed-9ca3-7bfd72d6a409 .axis.x text{text-anchor:middle}#chart-08e2f6dc-5f7f-41ed-9ca3-7bfd72d6a409 .axis.x:not(.web) text[transform]{text-anchor:start}#chart-08e2f6dc-5f7f-41ed-9ca3-7bfd72d6a409 .axis.x:not(.web) text[transform].backwards{text-anchor:end}#chart-08e2f6dc-5f7f-41ed-9ca3-7bfd72d6a409 .axis.y text{text-anchor:end}#chart-08e2f6dc-5f7f-41ed-9ca3-7bfd72d6a409 .axis.y text[transform].backwards{text-anchor:start}#chart-08e2f6dc-5f7f-41ed-9ca3-7bfd72d6a409 .axis.y2 text{text-anchor:start}#chart-08e2f6dc-5f7f-41ed-9ca3-7bfd72d6a409 .axis.y2 text[transform].backwards{text-anchor:end}#chart-08e2f6dc-5f7f-41ed-9ca3-7bfd72d6a409 .axis .guide.line{stroke-dasharray:4,4}#chart-08e2f6dc-5f7f-41ed-9ca3-7bfd72d6a409 .axis .major.guide.line{stroke-dasharray:6,6}#chart-08e2f6dc-5f7f-41ed-9ca3-7bfd72d6a409 .horizontal .axis.y .guide.line,#chart-08e2f6dc-5f7f-41ed-9ca3-7bfd72d6a409 .horizontal .axis.y2 .guide.line,#chart-08e2f6dc-5f7f-41ed-9ca3-7bfd72d6a409 .vertical .axis.x .guide.line{opacity:0}#chart-08e2f6dc-5f7f-41ed-9ca3-7bfd72d6a409 .horizontal .axis.always_show .guide.line,#chart-08e2f6dc-5f7f-41ed-9ca3-7bfd72d6a409 .vertical .axis.always_show .guide.line{opacity:1 !important}#chart-08e2f6dc-5f7f-41ed-9ca3-7bfd72d6a409 .axis.y .guides:hover .guide.line,#chart-08e2f6dc-5f7f-41ed-9ca3-7bfd72d6a409 .axis.y2 .guides:hover .guide.line,#chart-08e2f6dc-5f7f-41ed-9ca3-7bfd72d6a409 .axis.x .guides:hover .guide.line{opacity:1}#chart-08e2f6dc-5f7f-41ed-9ca3-7bfd72d6a409 .axis .guides:hover text{opacity:1}#chart-08e2f6dc-5f7f-41ed-9ca3-7bfd72d6a409 .nofill{fill:none}#chart-08e2f6dc-5f7f-41ed-9ca3-7bfd72d6a409 .subtle-fill{fill-opacity:.2}#chart-08e2f6dc-5f7f-41ed-9ca3-7bfd72d6a409 .dot{stroke-width:1px;fill-opacity:1}#chart-08e2f6dc-5f7f-41ed-9ca3-7bfd72d6a409 .dot.active{stroke-width:5px}#chart-08e2f6dc-5f7f-41ed-9ca3-7bfd72d6a409 .dot.negative{fill:transparent}#chart-08e2f6dc-5f7f-41ed-9ca3-7bfd72d6a409 text,#chart-08e2f6dc-5f7f-41ed-9ca3-7bfd72d6a409 tspan{stroke:none !important}#chart-08e2f6dc-5f7f-41ed-9ca3-7bfd72d6a409 .series text.active{opacity:1}#chart-08e2f6dc-5f7f-41ed-9ca3-7bfd72d6a409 .tooltip rect{fill-opacity:.95;stroke-width:.5}#chart-08e2f6dc-5f7f-41ed-9ca3-7bfd72d6a409 .tooltip text{fill-opacity:1}#chart-08e2f6dc-5f7f-41ed-9ca3-7bfd72d6a409 .showable{visibility:hidden}#chart-08e2f6dc-5f7f-41ed-9ca3-7bfd72d6a409 .showable.shown{visibility:visible}#chart-08e2f6dc-5f7f-41ed-9ca3-7bfd72d6a409 .gauge-background{fill:rgba(229,229,229,1);stroke:none}#chart-08e2f6dc-5f7f-41ed-9ca3-7bfd72d6a409 .bg-lines{stroke:rgba(249,249,249,1);stroke-width:2px}</style><script type=\"text/javascript\">window.pygal = window.pygal || {};window.pygal.config = window.pygal.config || {};window.pygal.config[\\'08e2f6dc-5f7f-41ed-9ca3-7bfd72d6a409\\'] = {\"allow_interruptions\": false, \"box_mode\": \"extremes\", \"classes\": [\"pygal-chart\"], \"css\": [\"file://style.css\", \"file://graph.css\"], \"defs\": [], \"disable_xml_declaration\": false, \"dots_size\": 2.5, \"dynamic_print_values\": false, \"explicit_size\": false, \"fill\": false, \"force_uri_protocol\": \"https\", \"formatter\": null, \"half_pie\": false, \"height\": 600, \"include_x_axis\": false, \"inner_radius\": 0, \"interpolate\": null, \"interpolation_parameters\": {}, \"interpolation_precision\": 250, \"inverse_y_axis\": false, \"js\": [\"//kozea.github.io/pygal.js/2.0.x/pygal-tooltips.min.js\"], \"legend_at_bottom\": false, \"legend_at_bottom_columns\": null, \"legend_box_size\": 12, \"logarithmic\": false, \"margin\": 20, \"margin_bottom\": null, \"margin_left\": null, \"margin_right\": null, \"margin_top\": null, \"max_scale\": 16, \"min_scale\": 4, \"missing_value_fill_truncation\": \"x\", \"no_data_text\": \"No data\", \"no_prefix\": false, \"order_min\": null, \"pretty_print\": false, \"print_labels\": false, \"print_values\": false, \"print_values_position\": \"center\", \"print_zeroes\": true, \"range\": null, \"rounded_bars\": null, \"secondary_range\": null, \"show_dots\": true, \"show_legend\": true, \"show_minor_x_labels\": true, \"show_minor_y_labels\": true, \"show_only_major_dots\": false, \"show_x_guides\": false, \"show_x_labels\": true, \"show_y_guides\": true, \"show_y_labels\": true, \"spacing\": 10, \"stack_from_top\": false, \"strict\": false, \"stroke\": true, \"stroke_style\": null, \"style\": {\"background\": \"rgba(249, 249, 249, 1)\", \"ci_colors\": [], \"colors\": [\"#F44336\", \"#3F51B5\", \"#009688\", \"#FFC107\", \"#FF5722\", \"#9C27B0\", \"#03A9F4\", \"#8BC34A\", \"#FF9800\", \"#E91E63\", \"#2196F3\", \"#4CAF50\", \"#FFEB3B\", \"#673AB7\", \"#00BCD4\", \"#CDDC39\", \"#9E9E9E\", \"#607D8B\"], \"font_family\": \"Consolas, \\\\\"Liberation Mono\\\\\", Menlo, Courier, monospace\", \"foreground\": \"rgba(0, 0, 0, .87)\", \"foreground_strong\": \"rgba(0, 0, 0, 1)\", \"foreground_subtle\": \"rgba(0, 0, 0, .54)\", \"guide_stroke_dasharray\": \"4,4\", \"label_font_family\": \"Consolas, \\\\\"Liberation Mono\\\\\", Menlo, Courier, monospace\", \"label_font_size\": 10, \"legend_font_family\": \"Consolas, \\\\\"Liberation Mono\\\\\", Menlo, Courier, monospace\", \"legend_font_size\": 14, \"major_guide_stroke_dasharray\": \"6,6\", \"major_label_font_family\": \"Consolas, \\\\\"Liberation Mono\\\\\", Menlo, Courier, monospace\", \"major_label_font_size\": 10, \"no_data_font_family\": \"Consolas, \\\\\"Liberation Mono\\\\\", Menlo, Courier, monospace\", \"no_data_font_size\": 64, \"opacity\": \".7\", \"opacity_hover\": \".8\", \"plot_background\": \"rgba(255, 255, 255, 1)\", \"stroke_opacity\": \".8\", \"stroke_opacity_hover\": \".9\", \"title_font_family\": \"Consolas, \\\\\"Liberation Mono\\\\\", Menlo, Courier, monospace\", \"title_font_size\": 16, \"tooltip_font_family\": \"Consolas, \\\\\"Liberation Mono\\\\\", Menlo, Courier, monospace\", \"tooltip_font_size\": 14, \"transition\": \"150ms\", \"value_background\": \"rgba(229, 229, 229, 1)\", \"value_colors\": [], \"value_font_family\": \"Consolas, \\\\\"Liberation Mono\\\\\", Menlo, Courier, monospace\", \"value_font_size\": 16, \"value_label_font_family\": \"Consolas, \\\\\"Liberation Mono\\\\\", Menlo, Courier, monospace\", \"value_label_font_size\": 10}, \"title\": null, \"tooltip_border_radius\": 0, \"tooltip_fancy_mode\": true, \"truncate_label\": null, \"truncate_legend\": null, \"width\": 800, \"x_label_rotation\": 0, \"x_labels\": null, \"x_labels_major\": null, \"x_labels_major_count\": null, \"x_labels_major_every\": null, \"x_title\": null, \"xrange\": null, \"y_label_rotation\": 0, \"y_labels\": null, \"y_labels_major\": null, \"y_labels_major_count\": null, \"y_labels_major_every\": null, \"y_title\": null, \"zero\": 0, \"legends\": [null, null]}</script><script type=\"text/javascript\" xlink:href=\"https://kozea.github.io/pygal.js/2.0.x/pygal-tooltips.min.js\"/></defs><title>Pygal</title><g class=\"graph bar-graph vertical\"><rect x=\"0\" y=\"0\" width=\"800\" height=\"600\" class=\"background\"/><g transform=\"translate(62, 20)\" class=\"plot\"><rect x=\"0\" y=\"0\" width=\"718.0\" height=\"560\" class=\"background\"/><g class=\"axis y always_show\"><g class=\"guides\"><path d=\"M0.000000 549.230769 h718.000000\" class=\"axis major line\"/><text x=\"-5\" y=\"552.7307692307693\" class=\"major\">0</text><title>0</title></g><g class=\"guides\"><path d=\"M0.000000 472.307692 h718.000000\" class=\"guide line\"/><text x=\"-5\" y=\"475.80769230769226\" class=\"\">1</text><title>1</title></g><g class=\"guides\"><path d=\"M0.000000 395.384615 h718.000000\" class=\"guide line\"/><text x=\"-5\" y=\"398.88461538461536\" class=\"\">2</text><title>2</title></g><g class=\"guides\"><path d=\"M0.000000 318.461538 h718.000000\" class=\"guide line\"/><text x=\"-5\" y=\"321.96153846153845\" class=\"\">3</text><title>3</title></g><g class=\"guides\"><path d=\"M0.000000 241.538462 h718.000000\" class=\"guide line\"/><text x=\"-5\" y=\"245.03846153846155\" class=\"\">4</text><title>4</title></g><g class=\"guides\"><path d=\"M0.000000 164.615385 h718.000000\" class=\"major guide line\"/><text x=\"-5\" y=\"168.11538461538464\" class=\"major\">5</text><title>5</title></g><g class=\"guides\"><path d=\"M0.000000 87.692308 h718.000000\" class=\"guide line\"/><text x=\"-5\" y=\"91.19230769230768\" class=\"\">6</text><title>6</title></g><g class=\"guides\"><path d=\"M0.000000 10.769231 h718.000000\" class=\"guide line\"/><text x=\"-5\" y=\"14.269230769230717\" class=\"\">7</text><title>7</title></g></g><g class=\"series serie-0 color-0\"><g class=\"bars\"><g class=\"bar\"><rect x=\"28.720000000000002\" y=\"472.30769230769226\" rx=\"0\" ry=\"0\" width=\"66.82923076923078\" height=\"76.92307692307702\" class=\"rect reactive tooltip-trigger\"/><desc class=\"value\">1</desc><desc class=\"x centered\">62.13461538461539</desc><desc class=\"y centered\">510.7692307692308</desc></g><g class=\"bar\"><rect x=\"201.31615384615384\" y=\"318.46153846153845\" rx=\"0\" ry=\"0\" width=\"66.82923076923078\" height=\"230.76923076923083\" class=\"rect reactive tooltip-trigger\"/><desc class=\"value\">3</desc><desc class=\"x centered\">234.73076923076923</desc><desc class=\"y centered\">433.84615384615387</desc></g><g class=\"bar\"><rect x=\"373.9123076923077\" y=\"318.46153846153845\" rx=\"0\" ry=\"0\" width=\"66.82923076923078\" height=\"230.76923076923083\" class=\"rect reactive tooltip-trigger\"/><desc class=\"value\">3</desc><desc class=\"x centered\">407.3269230769231</desc><desc class=\"y centered\">433.84615384615387</desc></g><g class=\"bar\"><rect x=\"546.5084615384616\" y=\"10.769230769230717\" rx=\"0\" ry=\"0\" width=\"66.82923076923078\" height=\"538.4615384615386\" class=\"rect reactive tooltip-trigger\"/><desc class=\"value\">7</desc><desc class=\"x centered\">579.9230769230769</desc><desc class=\"y centered\">280.0</desc></g></g></g><g class=\"series serie-1 color-1\"><g class=\"bars\"><g class=\"bar\"><rect x=\"104.66230769230772\" y=\"472.30769230769226\" rx=\"0\" ry=\"0\" width=\"66.82923076923078\" height=\"76.92307692307702\" class=\"rect reactive tooltip-trigger\"/><desc class=\"value\">1</desc><desc class=\"x centered\">138.0769230769231</desc><desc class=\"y centered\">510.7692307692308</desc></g><g class=\"bar\"><rect x=\"277.2584615384616\" y=\"87.69230769230768\" rx=\"0\" ry=\"0\" width=\"66.82923076923078\" height=\"461.5384615384616\" class=\"rect reactive tooltip-trigger\"/><desc class=\"value\">6</desc><desc class=\"x centered\">310.67307692307696</desc><desc class=\"y centered\">318.46153846153845</desc></g><g class=\"bar\"><rect x=\"449.8546153846154\" y=\"87.69230769230768\" rx=\"0\" ry=\"0\" width=\"66.82923076923078\" height=\"461.5384615384616\" class=\"rect reactive tooltip-trigger\"/><desc class=\"value\">6</desc><desc class=\"x centered\">483.2692307692308</desc><desc class=\"y centered\">318.46153846153845</desc></g><g class=\"bar\"><rect x=\"622.4507692307693\" y=\"241.53846153846155\" rx=\"0\" ry=\"0\" width=\"66.82923076923078\" height=\"307.69230769230774\" class=\"rect reactive tooltip-trigger\"/><desc class=\"value\">4</desc><desc class=\"x centered\">655.8653846153848</desc><desc class=\"y centered\">395.3846153846154</desc></g></g></g></g><g class=\"titles\"/><g transform=\"translate(62, 20)\" class=\"plot overlay\"><g class=\"series serie-0 color-0\"/><g class=\"series serie-1 color-1\"/></g><g transform=\"translate(62, 20)\" class=\"plot text-overlay\"><g class=\"series serie-0 color-0\"/><g class=\"series serie-1 color-1\"/></g><g transform=\"translate(62, 20)\" class=\"plot tooltip-overlay\"><g transform=\"translate(0 0)\" style=\"opacity: 0\" class=\"tooltip\"><rect rx=\"0\" ry=\"0\" width=\"0\" height=\"0\" class=\"tooltip-box\"/><g class=\"text\"/></g></g><g transform=\"translate(10, 30)\" class=\"legends\"/><g transform=\"translate(790, 30)\" class=\"legends\"/></g></svg>'"
      ]
     },
     "execution_count": 5,
     "metadata": {},
     "output_type": "execute_result"
    }
   ],
   "source": [
    "pygal.Bar()(1, 3, 3, 7)(1, 6, 6, 4).render()"
   ]
  },
  {
   "cell_type": "code",
   "execution_count": 46,
   "metadata": {},
   "outputs": [],
   "source": [
    "pygal.Bar()(1, 3, 3, 7)(1, 6, 6, 4).render_to_file(\"simple.svg\")"
   ]
  },
  {
   "cell_type": "code",
   "execution_count": 6,
   "metadata": {},
   "outputs": [],
   "source": [
    "import pygal\n",
    "bar_chart = pygal.HorizontalStackedBar()\n",
    "bar_chart.add('Fibonacci', [0, 1, 1, 2, 3, 5, 8, 13, 21, 34, 55])\n",
    "bar_chart.add('Padovan', [1, 1, 1, 2, 2, 3, 4, 5, 7, 9, 12])\n",
    "bar_chart.render_to_file(\"D:\\python_workspace\\python数据分析第二版\\HorizontalStackedBar111.svg\")"
   ]
  },
  {
   "cell_type": "code",
   "execution_count": null,
   "metadata": {},
   "outputs": [],
   "source": []
  }
 ],
 "metadata": {
  "file_extension": ".py",
  "kernelspec": {
   "display_name": "Python 3",
   "language": "python",
   "name": "python3"
  },
  "language_info": {
   "codemirror_mode": {
    "name": "ipython",
    "version": 3
   },
   "file_extension": ".py",
   "mimetype": "text/x-python",
   "name": "python",
   "nbconvert_exporter": "python",
   "pygments_lexer": "ipython3",
   "version": "3.7.3"
  },
  "mimetype": "text/x-python",
  "name": "python",
  "npconvert_exporter": "python",
  "pygments_lexer": "ipython3",
  "version": 3
 },
 "nbformat": 4,
 "nbformat_minor": 2
}
